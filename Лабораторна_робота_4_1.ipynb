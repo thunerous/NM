{
  "nbformat": 4,
  "nbformat_minor": 0,
  "metadata": {
    "colab": {
      "provenance": [],
      "authorship_tag": "ABX9TyNDBH6XF0wfffSikc7tgXQJ",
      "include_colab_link": true
    },
    "kernelspec": {
      "name": "python3",
      "display_name": "Python 3"
    },
    "language_info": {
      "name": "python"
    }
  },
  "cells": [
    {
      "cell_type": "markdown",
      "metadata": {
        "id": "view-in-github",
        "colab_type": "text"
      },
      "source": [
        "<a href=\"https://colab.research.google.com/github/thunerous/NM/blob/main/%D0%9B%D0%B0%D0%B1%D0%BE%D1%80%D0%B0%D1%82%D0%BE%D1%80%D0%BD%D0%B0_%D1%80%D0%BE%D0%B1%D0%BE%D1%82%D0%B0_4_1.ipynb\" target=\"_parent\"><img src=\"https://colab.research.google.com/assets/colab-badge.svg\" alt=\"Open In Colab\"/></a>"
      ]
    },
    {
      "cell_type": "code",
      "execution_count": 1,
      "metadata": {
        "id": "RRpMasCB-r_Q"
      },
      "outputs": [],
      "source": [
        "import numpy as np\n",
        "import statistics"
      ]
    },
    {
      "cell_type": "markdown",
      "source": [
        "Створи матрицю 3*3, заповни її цілими випадковими числами від 1 до 5"
      ],
      "metadata": {
        "id": "Pd3NSwllApRp"
      }
    },
    {
      "cell_type": "code",
      "source": [
        "np.random.seed(42)\n",
        "matrix = np.random.randint(1, 6, size=(3, 3))\n",
        "matrix"
      ],
      "metadata": {
        "colab": {
          "base_uri": "https://localhost:8080/"
        },
        "id": "PTVCzyiH-0YT",
        "outputId": "ed0ea507-3b16-44d5-9866-a6be971f5235"
      },
      "execution_count": 2,
      "outputs": [
        {
          "output_type": "execute_result",
          "data": {
            "text/plain": [
              "array([[4, 5, 3],\n",
              "       [5, 5, 2],\n",
              "       [3, 3, 3]])"
            ]
          },
          "metadata": {},
          "execution_count": 2
        }
      ]
    },
    {
      "cell_type": "markdown",
      "source": [
        "Обчислити визначник матриці"
      ],
      "metadata": {
        "id": "n5dddGVuAqf7"
      }
    },
    {
      "cell_type": "code",
      "source": [
        "det = np.linalg.det(matrix)\n",
        "det"
      ],
      "metadata": {
        "colab": {
          "base_uri": "https://localhost:8080/"
        },
        "id": "UhU42Bk_-6K4",
        "outputId": "5eedb41b-6c84-48c9-a89f-b52822575390"
      },
      "execution_count": 3,
      "outputs": [
        {
          "output_type": "execute_result",
          "data": {
            "text/plain": [
              "np.float64(-9.000000000000002)"
            ]
          },
          "metadata": {},
          "execution_count": 3
        }
      ]
    },
    {
      "cell_type": "markdown",
      "source": [
        "Знайти добуток всіх елементів матриці"
      ],
      "metadata": {
        "id": "C3YXe0HxAsgB"
      }
    },
    {
      "cell_type": "code",
      "source": [
        "product = np.prod(matrix)\n",
        "product"
      ],
      "metadata": {
        "colab": {
          "base_uri": "https://localhost:8080/"
        },
        "id": "WpMqkywq-970",
        "outputId": "a102d2c1-3d99-4408-afd7-3db73272a28d"
      },
      "execution_count": 4,
      "outputs": [
        {
          "output_type": "execute_result",
          "data": {
            "text/plain": [
              "np.int64(81000)"
            ]
          },
          "metadata": {},
          "execution_count": 4
        }
      ]
    },
    {
      "cell_type": "markdown",
      "source": [
        "Знайти суму всіх елементів матриці"
      ],
      "metadata": {
        "id": "yDu2CUEKAxCv"
      }
    },
    {
      "cell_type": "code",
      "source": [
        "total_sum = np.sum(matrix)\n",
        "total_sum"
      ],
      "metadata": {
        "colab": {
          "base_uri": "https://localhost:8080/"
        },
        "id": "qrwj-REc_BMh",
        "outputId": "b681e405-5b3a-4ea3-a459-aef1f035cd8c"
      },
      "execution_count": 5,
      "outputs": [
        {
          "output_type": "execute_result",
          "data": {
            "text/plain": [
              "np.int64(33)"
            ]
          },
          "metadata": {},
          "execution_count": 5
        }
      ]
    },
    {
      "cell_type": "markdown",
      "source": [
        "Обчислити найбільший, найменший елементи"
      ],
      "metadata": {
        "id": "kPcTOuYYAzCt"
      }
    },
    {
      "cell_type": "code",
      "source": [
        "max_val = np.max(matrix)\n",
        "min_val = np.min(matrix)\n",
        "print(f\"Max: {max_val}, Min: {min_val}\")"
      ],
      "metadata": {
        "colab": {
          "base_uri": "https://localhost:8080/"
        },
        "id": "_dqP5OGc_Fe4",
        "outputId": "d3bc41a4-88b0-42cb-e4da-17aab5c43207"
      },
      "execution_count": 6,
      "outputs": [
        {
          "output_type": "stream",
          "name": "stdout",
          "text": [
            "Max: 5, Min: 2\n"
          ]
        }
      ]
    },
    {
      "cell_type": "markdown",
      "source": [
        "Знайти середнє значення елементів матриці"
      ],
      "metadata": {
        "id": "AcTKxjdZA2Sf"
      }
    },
    {
      "cell_type": "code",
      "source": [
        "average = np.mean(matrix)\n",
        "average"
      ],
      "metadata": {
        "colab": {
          "base_uri": "https://localhost:8080/"
        },
        "id": "REkzNzL5_Oqd",
        "outputId": "4d53188c-1339-46aa-d94a-a00072f0b3e1"
      },
      "execution_count": 7,
      "outputs": [
        {
          "output_type": "execute_result",
          "data": {
            "text/plain": [
              "np.float64(3.6666666666666665)"
            ]
          },
          "metadata": {},
          "execution_count": 7
        }
      ]
    },
    {
      "cell_type": "markdown",
      "source": [
        "Знайти матрицю, що складена з квадратних коренів"
      ],
      "metadata": {
        "id": "997J0oRTA3yg"
      }
    },
    {
      "cell_type": "code",
      "source": [
        "sqrt_matrix = np.sqrt(matrix)\n",
        "sqrt_matrix"
      ],
      "metadata": {
        "colab": {
          "base_uri": "https://localhost:8080/"
        },
        "id": "8Jm2onMO_SRg",
        "outputId": "79ef8073-5894-4441-b04b-c09fbf38a687"
      },
      "execution_count": 8,
      "outputs": [
        {
          "output_type": "execute_result",
          "data": {
            "text/plain": [
              "array([[2.        , 2.23606798, 1.73205081],\n",
              "       [2.23606798, 2.23606798, 1.41421356],\n",
              "       [1.73205081, 1.73205081, 1.73205081]])"
            ]
          },
          "metadata": {},
          "execution_count": 8
        }
      ]
    },
    {
      "cell_type": "markdown",
      "source": [
        "Обчислити суму елементів кожного рядка. Відповідь записати як вектор-стовпчик"
      ],
      "metadata": {
        "id": "xJ_XcOWGA6YW"
      }
    },
    {
      "cell_type": "code",
      "source": [
        "row_sums = np.sum(matrix, axis=1).reshape(-1, 1)\n",
        "row_sums"
      ],
      "metadata": {
        "colab": {
          "base_uri": "https://localhost:8080/"
        },
        "id": "OZC4Hkhh_XiI",
        "outputId": "6b18cf0c-4baf-4374-8872-c56fd9c05eb1"
      },
      "execution_count": 9,
      "outputs": [
        {
          "output_type": "execute_result",
          "data": {
            "text/plain": [
              "array([[12],\n",
              "       [12],\n",
              "       [ 9]])"
            ]
          },
          "metadata": {},
          "execution_count": 9
        }
      ]
    },
    {
      "cell_type": "markdown",
      "source": [
        "Створити вектор, що містить 25 елементів. Заповнити числами від 0 до 9. Відсортувати числа за спаданням"
      ],
      "metadata": {
        "id": "O74dnpvfA8FY"
      }
    },
    {
      "cell_type": "code",
      "source": [
        "vector = np.random.randint(0, 10, size=25)\n",
        "sorted_vector = np.sort(vector)[::-1]\n",
        "sorted_vector"
      ],
      "metadata": {
        "colab": {
          "base_uri": "https://localhost:8080/"
        },
        "id": "1WKjbxNH_dvw",
        "outputId": "cf673e8d-5981-4584-bc7d-438313239c4f"
      },
      "execution_count": 10,
      "outputs": [
        {
          "output_type": "execute_result",
          "data": {
            "text/plain": [
              "array([9, 9, 8, 8, 7, 7, 7, 7, 6, 5, 5, 5, 4, 4, 4, 4, 3, 3, 2, 2, 2, 1,\n",
              "       1, 0, 0])"
            ]
          },
          "metadata": {},
          "execution_count": 10
        }
      ]
    },
    {
      "cell_type": "markdown",
      "source": [
        "Знайти моду, медіану, середнє, максимальне, мінімальне значення"
      ],
      "metadata": {
        "id": "lx6oLF3_BCKn"
      }
    },
    {
      "cell_type": "code",
      "source": [
        "print(f\"мода: {statistics.mode(vector)}\")\n",
        "print(f\"медіана: {np.median(vector)}\")\n",
        "print(f\"середнє: {np.mean(vector)}\")\n",
        "print(f\"максимальне: {np.max(vector)}\")\n",
        "print(f\"мінімальне: {np.min(vector)}\")"
      ],
      "metadata": {
        "colab": {
          "base_uri": "https://localhost:8080/"
        },
        "id": "bMH9krpq_jgc",
        "outputId": "55f292a4-cdb6-43da-b868-2f46f150c909"
      },
      "execution_count": 13,
      "outputs": [
        {
          "output_type": "stream",
          "name": "stdout",
          "text": [
            "мода: 7\n",
            "медіана: 4.0\n",
            "середнє: 4.52\n",
            "максимальне: 9\n",
            "мінімальне: 0\n"
          ]
        }
      ]
    },
    {
      "cell_type": "markdown",
      "source": [
        "Створити дві матриці 4*4, заповнені числами від 1 до 10. Обчислити суму, різницю, поелементний добуток, частку"
      ],
      "metadata": {
        "id": "CLJUehBQBEGm"
      }
    },
    {
      "cell_type": "code",
      "source": [
        "matrix1 = np.random.randint(1, 11, size=(4, 4))\n",
        "matrix2 = np.random.randint(1, 11, size=(4, 4))\n",
        "print(\"Матриця 1:\")\n",
        "print(matrix1)\n",
        "print(\"\\nМатриця 2:\")\n",
        "print(matrix2)\n",
        "\n",
        "print(\"\\nСума:\")\n",
        "print(matrix1 + matrix2)\n",
        "\n",
        "print(\"\\nРізниця:\")\n",
        "print(matrix1 - matrix2)\n",
        "\n",
        "print(\"\\nПоелементний добуток:\")\n",
        "print(matrix1 * matrix2)\n",
        "\n",
        "print(\"\\nЧастка:\")\n",
        "print(matrix1 / matrix2)"
      ],
      "metadata": {
        "colab": {
          "base_uri": "https://localhost:8080/"
        },
        "id": "I6_O5Uxf_yPL",
        "outputId": "024df640-7066-4ce8-b482-3b2155f052b1"
      },
      "execution_count": 15,
      "outputs": [
        {
          "output_type": "stream",
          "name": "stdout",
          "text": [
            "Матриця 1:\n",
            "[[10  4  8  7]\n",
            " [ 9  8  5  2]\n",
            " [ 5  8 10  9]\n",
            " [ 9  1  9  7]]\n",
            "\n",
            "Матриця 2:\n",
            "[[ 9  8  1  8]\n",
            " [ 8  3  1  8]\n",
            " [ 3  3  1  5]\n",
            " [10  7 10  9]]\n",
            "\n",
            "Сума:\n",
            "[[19 12  9 15]\n",
            " [17 11  6 10]\n",
            " [ 8 11 11 14]\n",
            " [19  8 19 16]]\n",
            "\n",
            "Різниця:\n",
            "[[ 1 -4  7 -1]\n",
            " [ 1  5  4 -6]\n",
            " [ 2  5  9  4]\n",
            " [-1 -6 -1 -2]]\n",
            "\n",
            "Поелементний добуток:\n",
            "[[90 32  8 56]\n",
            " [72 24  5 16]\n",
            " [15 24 10 45]\n",
            " [90  7 90 63]]\n",
            "\n",
            "Частка:\n",
            "[[ 1.11111111  0.5         8.          0.875     ]\n",
            " [ 1.125       2.66666667  5.          0.25      ]\n",
            " [ 1.66666667  2.66666667 10.          1.8       ]\n",
            " [ 0.9         0.14285714  0.9         0.77777778]]\n"
          ]
        }
      ]
    },
    {
      "cell_type": "markdown",
      "source": [
        "Задати вектор-рядок, що містить дійсні числа 1.0-8.0. Зробити матрицю 3*3.Помножити на вектор-рядок, що містить числа 1.0-2.0"
      ],
      "metadata": {
        "id": "V0149snjBGgh"
      }
    },
    {
      "cell_type": "code",
      "source": [
        "row_vector = np.linspace(1.0, 8.0, 9).reshape(3, 3)\n",
        "mult_vector = np.linspace(1.0, 2.0, 3)\n",
        "result = row_vector * mult_vector\n",
        "print(\"Оригінальна матриця:\")\n",
        "print(row_vector)\n",
        "print(\"\\nВектор:\")\n",
        "print(mult_vector)\n",
        "print(\"\\nРезультат:\")\n",
        "print(result)"
      ],
      "metadata": {
        "colab": {
          "base_uri": "https://localhost:8080/"
        },
        "id": "iErgSuL4AL7J",
        "outputId": "a6891f57-b09d-49a3-a63f-1aeb460b9188"
      },
      "execution_count": 16,
      "outputs": [
        {
          "output_type": "stream",
          "name": "stdout",
          "text": [
            "Оригінальна матриця:\n",
            "[[1.    1.875 2.75 ]\n",
            " [3.625 4.5   5.375]\n",
            " [6.25  7.125 8.   ]]\n",
            "\n",
            "Вектор:\n",
            "[1.  1.5 2. ]\n",
            "\n",
            "Результат:\n",
            "[[ 1.      2.8125  5.5   ]\n",
            " [ 3.625   6.75   10.75  ]\n",
            " [ 6.25   10.6875 16.    ]]\n"
          ]
        }
      ]
    },
    {
      "cell_type": "markdown",
      "source": [
        "Задати вектор-рядок (числа 1-5). Обчислити вектор в кубі."
      ],
      "metadata": {
        "id": "N0X5PYqXBKGd"
      }
    },
    {
      "cell_type": "code",
      "source": [
        "vector = np.array([1, 2, 3, 4, 5])\n",
        "cubed_vector = vector ** 3\n",
        "print(\"Оригінал:\", vector)\n",
        "print(\"В кубі:\", cubed_vector)"
      ],
      "metadata": {
        "colab": {
          "base_uri": "https://localhost:8080/"
        },
        "id": "DSASqyCtAdmJ",
        "outputId": "2f1d8b9e-3e68-4a5a-ddc6-a01ebc441e00"
      },
      "execution_count": 17,
      "outputs": [
        {
          "output_type": "stream",
          "name": "stdout",
          "text": [
            "Оригінал: [1 2 3 4 5]\n",
            "В кубі: [  1   8  27  64 125]\n"
          ]
        }
      ]
    },
    {
      "cell_type": "markdown",
      "source": [
        "Висновок\n",
        "\n",
        "---\n",
        "\n",
        "\n",
        "Навчився обчислювати різноманітні операції над матрицями за допомогою бібліотеки NumPy\n"
      ],
      "metadata": {
        "id": "n9Zb1UprB0pH"
      }
    }
  ]
}